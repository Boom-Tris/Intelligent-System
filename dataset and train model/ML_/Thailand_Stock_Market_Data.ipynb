{
  "nbformat": 4,
  "nbformat_minor": 0,
  "metadata": {
    "colab": {
      "provenance": []
    },
    "kernelspec": {
      "name": "python3",
      "display_name": "Python 3"
    },
    "language_info": {
      "name": "python"
    }
  },
  "cells": [
    {
      "cell_type": "code",
      "execution_count": null,
      "metadata": {
        "id": "_EwTgSNfTNYE"
      },
      "outputs": [],
      "source": [
        "import pandas as pd\n",
        "import numpy as np\n",
        "import joblib\n",
        "import matplotlib.pyplot as plt\n",
        "import seaborn as sns\n",
        "from sklearn.impute import SimpleImputer\n",
        "from sklearn.preprocessing import StandardScaler\n",
        "from sklearn.model_selection import train_test_split, GridSearchCV\n",
        "from sklearn.metrics import mean_absolute_error, mean_squared_error, r2_score\n",
        "from sklearn.ensemble import VotingRegressor\n",
        "from sklearn.tree import DecisionTreeRegressor\n",
        "from sklearn.neighbors import KNeighborsRegressor\n",
        "from sklearn.svm import SVR"
      ]
    },
    {
      "cell_type": "code",
      "source": [
        "# โหลดข้อมูลจากไฟล์ CSV\n",
        "file_name = 'Thailand_Stock_Market_Data.csv'\n",
        "data = pd.read_csv(file_name)\n",
        "print(\"ข้อมูลเบื้องต้น:\\n\", data.head())\n",
        "print(\"ข้อมูลที่หายไปในแต่ละคอลัมน์:\\n\", data.isnull().sum())"
      ],
      "metadata": {
        "colab": {
          "base_uri": "https://localhost:8080/"
        },
        "id": "hEbBw9DITUHw",
        "outputId": "b6257d76-e3ac-4594-ca0e-b4988c6c40fd"
      },
      "execution_count": null,
      "outputs": [
        {
          "output_type": "stream",
          "name": "stdout",
          "text": [
            "ข้อมูลเบื้องต้น:\n",
            "         Date  Close Price  High Price  Low Price   Volume  \\\n",
            "0  5/17/2022      1035.42     1060.41    1008.71   4587.0   \n",
            "1  5/18/2022      1834.77     1854.81    1820.66  48532.0   \n",
            "2  5/19/2022      1299.43     1338.65    1279.73  58306.0   \n",
            "3  5/20/2022      1613.39     1638.25    1589.38  25687.0   \n",
            "4  5/21/2022      1005.77         NaN     977.20  34795.0   \n",
            "\n",
            "   Moving Average (50 days)  Moving Average (200 days)  Change  \\\n",
            "0                   1023.00                    1008.98   -7.74   \n",
            "1                       NaN                    1773.30   -3.34   \n",
            "2                   1332.39                    1347.57     NaN   \n",
            "3                       NaN                    1570.26     NaN   \n",
            "4                    978.58                     986.95    0.86   \n",
            "\n",
            "   Percentage Change  \n",
            "0              -0.75  \n",
            "1              -0.18  \n",
            "2                NaN  \n",
            "3                NaN  \n",
            "4               0.09  \n",
            "ข้อมูลที่หายไปในแต่ละคอลัมน์:\n",
            " Date                           0\n",
            "Close Price                  101\n",
            "High Price                   143\n",
            "Low Price                    154\n",
            "Volume                       144\n",
            "Moving Average (50 days)     275\n",
            "Moving Average (200 days)    270\n",
            "Change                       404\n",
            "Percentage Change            404\n",
            "dtype: int64\n"
          ]
        }
      ]
    },
    {
      "cell_type": "code",
      "source": [
        "# ตรวจสอบว่าคอลัมน์ที่ต้องการมีอยู่จริงหรือไม่\n",
        "required_columns = ['Date', 'Close Price', 'High Price', 'Low Price', 'Volume', 'Change', 'Moving Average (50 days)', 'Moving Average (200 days)', 'Percentage Change']\n",
        "for col in required_columns:\n",
        "    if col not in data.columns:\n",
        "        raise ValueError(f\"Missing required column: {col}\")"
      ],
      "metadata": {
        "id": "e80pnC2-TVE1"
      },
      "execution_count": null,
      "outputs": []
    },
    {
      "cell_type": "code",
      "source": [
        "# แยก X และ y\n",
        "X = data.drop(['Date', 'Close Price'], axis=1)\n",
        "y = data['Close Price'].ffill()  # เติมค่าที่หายไปใน target"
      ],
      "metadata": {
        "id": "iD59DlDwTWW9"
      },
      "execution_count": null,
      "outputs": []
    },
    {
      "cell_type": "code",
      "source": [
        "# เติมค่า missing values ใน X\n",
        "imputer = SimpleImputer(strategy='mean')\n",
        "X_imputed = pd.DataFrame(imputer.fit_transform(X), columns=X.columns)"
      ],
      "metadata": {
        "id": "qm0kJGapTXW5"
      },
      "execution_count": null,
      "outputs": []
    },
    {
      "cell_type": "code",
      "source": [
        "# Scaling ข้อมูล\n",
        "scaler = StandardScaler()\n",
        "X_scaled = pd.DataFrame(scaler.fit_transform(X_imputed), columns=X.columns)"
      ],
      "metadata": {
        "id": "Jd4X48nATZzZ"
      },
      "execution_count": null,
      "outputs": []
    },
    {
      "cell_type": "code",
      "source": [
        "# Split ข้อมูล\n",
        "X_train, X_test, y_train, y_test = train_test_split(X_scaled, y, test_size=0.2, random_state=42)\n"
      ],
      "metadata": {
        "id": "Aa7MNWaZTbFa"
      },
      "execution_count": null,
      "outputs": []
    },
    {
      "cell_type": "code",
      "source": [
        "# สร้างและฝึกสอนโมเดล\n",
        "knn = KNeighborsRegressor(n_neighbors=5)\n",
        "decision_tree = DecisionTreeRegressor(random_state=42)\n",
        "param_grid_svr = {'C': [1, 10, 100], 'epsilon': [0.01, 0.1, 1], 'kernel': ['linear', 'rbf']}\n",
        "\n",
        "grid_search_svr = GridSearchCV(SVR(), param_grid_svr, scoring='r2', cv=5)\n",
        "grid_search_svr.fit(X_train, y_train)\n",
        "svm = grid_search_svr.best_estimator_"
      ],
      "metadata": {
        "id": "5czPmo64Th3g"
      },
      "execution_count": null,
      "outputs": []
    },
    {
      "cell_type": "code",
      "source": [
        "# Train Models\n",
        "knn.fit(X_train, y_train)\n",
        "decision_tree.fit(X_train, y_train)"
      ],
      "metadata": {
        "colab": {
          "base_uri": "https://localhost:8080/",
          "height": 80
        },
        "id": "fSRZR_atTjih",
        "outputId": "47f28855-f80a-4069-f2d1-0e14c839101a"
      },
      "execution_count": null,
      "outputs": [
        {
          "output_type": "execute_result",
          "data": {
            "text/plain": [
              "DecisionTreeRegressor(random_state=42)"
            ],
            "text/html": [
              "<style>#sk-container-id-1 {\n",
              "  /* Definition of color scheme common for light and dark mode */\n",
              "  --sklearn-color-text: #000;\n",
              "  --sklearn-color-text-muted: #666;\n",
              "  --sklearn-color-line: gray;\n",
              "  /* Definition of color scheme for unfitted estimators */\n",
              "  --sklearn-color-unfitted-level-0: #fff5e6;\n",
              "  --sklearn-color-unfitted-level-1: #f6e4d2;\n",
              "  --sklearn-color-unfitted-level-2: #ffe0b3;\n",
              "  --sklearn-color-unfitted-level-3: chocolate;\n",
              "  /* Definition of color scheme for fitted estimators */\n",
              "  --sklearn-color-fitted-level-0: #f0f8ff;\n",
              "  --sklearn-color-fitted-level-1: #d4ebff;\n",
              "  --sklearn-color-fitted-level-2: #b3dbfd;\n",
              "  --sklearn-color-fitted-level-3: cornflowerblue;\n",
              "\n",
              "  /* Specific color for light theme */\n",
              "  --sklearn-color-text-on-default-background: var(--sg-text-color, var(--theme-code-foreground, var(--jp-content-font-color1, black)));\n",
              "  --sklearn-color-background: var(--sg-background-color, var(--theme-background, var(--jp-layout-color0, white)));\n",
              "  --sklearn-color-border-box: var(--sg-text-color, var(--theme-code-foreground, var(--jp-content-font-color1, black)));\n",
              "  --sklearn-color-icon: #696969;\n",
              "\n",
              "  @media (prefers-color-scheme: dark) {\n",
              "    /* Redefinition of color scheme for dark theme */\n",
              "    --sklearn-color-text-on-default-background: var(--sg-text-color, var(--theme-code-foreground, var(--jp-content-font-color1, white)));\n",
              "    --sklearn-color-background: var(--sg-background-color, var(--theme-background, var(--jp-layout-color0, #111)));\n",
              "    --sklearn-color-border-box: var(--sg-text-color, var(--theme-code-foreground, var(--jp-content-font-color1, white)));\n",
              "    --sklearn-color-icon: #878787;\n",
              "  }\n",
              "}\n",
              "\n",
              "#sk-container-id-1 {\n",
              "  color: var(--sklearn-color-text);\n",
              "}\n",
              "\n",
              "#sk-container-id-1 pre {\n",
              "  padding: 0;\n",
              "}\n",
              "\n",
              "#sk-container-id-1 input.sk-hidden--visually {\n",
              "  border: 0;\n",
              "  clip: rect(1px 1px 1px 1px);\n",
              "  clip: rect(1px, 1px, 1px, 1px);\n",
              "  height: 1px;\n",
              "  margin: -1px;\n",
              "  overflow: hidden;\n",
              "  padding: 0;\n",
              "  position: absolute;\n",
              "  width: 1px;\n",
              "}\n",
              "\n",
              "#sk-container-id-1 div.sk-dashed-wrapped {\n",
              "  border: 1px dashed var(--sklearn-color-line);\n",
              "  margin: 0 0.4em 0.5em 0.4em;\n",
              "  box-sizing: border-box;\n",
              "  padding-bottom: 0.4em;\n",
              "  background-color: var(--sklearn-color-background);\n",
              "}\n",
              "\n",
              "#sk-container-id-1 div.sk-container {\n",
              "  /* jupyter's `normalize.less` sets `[hidden] { display: none; }`\n",
              "     but bootstrap.min.css set `[hidden] { display: none !important; }`\n",
              "     so we also need the `!important` here to be able to override the\n",
              "     default hidden behavior on the sphinx rendered scikit-learn.org.\n",
              "     See: https://github.com/scikit-learn/scikit-learn/issues/21755 */\n",
              "  display: inline-block !important;\n",
              "  position: relative;\n",
              "}\n",
              "\n",
              "#sk-container-id-1 div.sk-text-repr-fallback {\n",
              "  display: none;\n",
              "}\n",
              "\n",
              "div.sk-parallel-item,\n",
              "div.sk-serial,\n",
              "div.sk-item {\n",
              "  /* draw centered vertical line to link estimators */\n",
              "  background-image: linear-gradient(var(--sklearn-color-text-on-default-background), var(--sklearn-color-text-on-default-background));\n",
              "  background-size: 2px 100%;\n",
              "  background-repeat: no-repeat;\n",
              "  background-position: center center;\n",
              "}\n",
              "\n",
              "/* Parallel-specific style estimator block */\n",
              "\n",
              "#sk-container-id-1 div.sk-parallel-item::after {\n",
              "  content: \"\";\n",
              "  width: 100%;\n",
              "  border-bottom: 2px solid var(--sklearn-color-text-on-default-background);\n",
              "  flex-grow: 1;\n",
              "}\n",
              "\n",
              "#sk-container-id-1 div.sk-parallel {\n",
              "  display: flex;\n",
              "  align-items: stretch;\n",
              "  justify-content: center;\n",
              "  background-color: var(--sklearn-color-background);\n",
              "  position: relative;\n",
              "}\n",
              "\n",
              "#sk-container-id-1 div.sk-parallel-item {\n",
              "  display: flex;\n",
              "  flex-direction: column;\n",
              "}\n",
              "\n",
              "#sk-container-id-1 div.sk-parallel-item:first-child::after {\n",
              "  align-self: flex-end;\n",
              "  width: 50%;\n",
              "}\n",
              "\n",
              "#sk-container-id-1 div.sk-parallel-item:last-child::after {\n",
              "  align-self: flex-start;\n",
              "  width: 50%;\n",
              "}\n",
              "\n",
              "#sk-container-id-1 div.sk-parallel-item:only-child::after {\n",
              "  width: 0;\n",
              "}\n",
              "\n",
              "/* Serial-specific style estimator block */\n",
              "\n",
              "#sk-container-id-1 div.sk-serial {\n",
              "  display: flex;\n",
              "  flex-direction: column;\n",
              "  align-items: center;\n",
              "  background-color: var(--sklearn-color-background);\n",
              "  padding-right: 1em;\n",
              "  padding-left: 1em;\n",
              "}\n",
              "\n",
              "\n",
              "/* Toggleable style: style used for estimator/Pipeline/ColumnTransformer box that is\n",
              "clickable and can be expanded/collapsed.\n",
              "- Pipeline and ColumnTransformer use this feature and define the default style\n",
              "- Estimators will overwrite some part of the style using the `sk-estimator` class\n",
              "*/\n",
              "\n",
              "/* Pipeline and ColumnTransformer style (default) */\n",
              "\n",
              "#sk-container-id-1 div.sk-toggleable {\n",
              "  /* Default theme specific background. It is overwritten whether we have a\n",
              "  specific estimator or a Pipeline/ColumnTransformer */\n",
              "  background-color: var(--sklearn-color-background);\n",
              "}\n",
              "\n",
              "/* Toggleable label */\n",
              "#sk-container-id-1 label.sk-toggleable__label {\n",
              "  cursor: pointer;\n",
              "  display: flex;\n",
              "  width: 100%;\n",
              "  margin-bottom: 0;\n",
              "  padding: 0.5em;\n",
              "  box-sizing: border-box;\n",
              "  text-align: center;\n",
              "  align-items: start;\n",
              "  justify-content: space-between;\n",
              "  gap: 0.5em;\n",
              "}\n",
              "\n",
              "#sk-container-id-1 label.sk-toggleable__label .caption {\n",
              "  font-size: 0.6rem;\n",
              "  font-weight: lighter;\n",
              "  color: var(--sklearn-color-text-muted);\n",
              "}\n",
              "\n",
              "#sk-container-id-1 label.sk-toggleable__label-arrow:before {\n",
              "  /* Arrow on the left of the label */\n",
              "  content: \"▸\";\n",
              "  float: left;\n",
              "  margin-right: 0.25em;\n",
              "  color: var(--sklearn-color-icon);\n",
              "}\n",
              "\n",
              "#sk-container-id-1 label.sk-toggleable__label-arrow:hover:before {\n",
              "  color: var(--sklearn-color-text);\n",
              "}\n",
              "\n",
              "/* Toggleable content - dropdown */\n",
              "\n",
              "#sk-container-id-1 div.sk-toggleable__content {\n",
              "  max-height: 0;\n",
              "  max-width: 0;\n",
              "  overflow: hidden;\n",
              "  text-align: left;\n",
              "  /* unfitted */\n",
              "  background-color: var(--sklearn-color-unfitted-level-0);\n",
              "}\n",
              "\n",
              "#sk-container-id-1 div.sk-toggleable__content.fitted {\n",
              "  /* fitted */\n",
              "  background-color: var(--sklearn-color-fitted-level-0);\n",
              "}\n",
              "\n",
              "#sk-container-id-1 div.sk-toggleable__content pre {\n",
              "  margin: 0.2em;\n",
              "  border-radius: 0.25em;\n",
              "  color: var(--sklearn-color-text);\n",
              "  /* unfitted */\n",
              "  background-color: var(--sklearn-color-unfitted-level-0);\n",
              "}\n",
              "\n",
              "#sk-container-id-1 div.sk-toggleable__content.fitted pre {\n",
              "  /* unfitted */\n",
              "  background-color: var(--sklearn-color-fitted-level-0);\n",
              "}\n",
              "\n",
              "#sk-container-id-1 input.sk-toggleable__control:checked~div.sk-toggleable__content {\n",
              "  /* Expand drop-down */\n",
              "  max-height: 200px;\n",
              "  max-width: 100%;\n",
              "  overflow: auto;\n",
              "}\n",
              "\n",
              "#sk-container-id-1 input.sk-toggleable__control:checked~label.sk-toggleable__label-arrow:before {\n",
              "  content: \"▾\";\n",
              "}\n",
              "\n",
              "/* Pipeline/ColumnTransformer-specific style */\n",
              "\n",
              "#sk-container-id-1 div.sk-label input.sk-toggleable__control:checked~label.sk-toggleable__label {\n",
              "  color: var(--sklearn-color-text);\n",
              "  background-color: var(--sklearn-color-unfitted-level-2);\n",
              "}\n",
              "\n",
              "#sk-container-id-1 div.sk-label.fitted input.sk-toggleable__control:checked~label.sk-toggleable__label {\n",
              "  background-color: var(--sklearn-color-fitted-level-2);\n",
              "}\n",
              "\n",
              "/* Estimator-specific style */\n",
              "\n",
              "/* Colorize estimator box */\n",
              "#sk-container-id-1 div.sk-estimator input.sk-toggleable__control:checked~label.sk-toggleable__label {\n",
              "  /* unfitted */\n",
              "  background-color: var(--sklearn-color-unfitted-level-2);\n",
              "}\n",
              "\n",
              "#sk-container-id-1 div.sk-estimator.fitted input.sk-toggleable__control:checked~label.sk-toggleable__label {\n",
              "  /* fitted */\n",
              "  background-color: var(--sklearn-color-fitted-level-2);\n",
              "}\n",
              "\n",
              "#sk-container-id-1 div.sk-label label.sk-toggleable__label,\n",
              "#sk-container-id-1 div.sk-label label {\n",
              "  /* The background is the default theme color */\n",
              "  color: var(--sklearn-color-text-on-default-background);\n",
              "}\n",
              "\n",
              "/* On hover, darken the color of the background */\n",
              "#sk-container-id-1 div.sk-label:hover label.sk-toggleable__label {\n",
              "  color: var(--sklearn-color-text);\n",
              "  background-color: var(--sklearn-color-unfitted-level-2);\n",
              "}\n",
              "\n",
              "/* Label box, darken color on hover, fitted */\n",
              "#sk-container-id-1 div.sk-label.fitted:hover label.sk-toggleable__label.fitted {\n",
              "  color: var(--sklearn-color-text);\n",
              "  background-color: var(--sklearn-color-fitted-level-2);\n",
              "}\n",
              "\n",
              "/* Estimator label */\n",
              "\n",
              "#sk-container-id-1 div.sk-label label {\n",
              "  font-family: monospace;\n",
              "  font-weight: bold;\n",
              "  display: inline-block;\n",
              "  line-height: 1.2em;\n",
              "}\n",
              "\n",
              "#sk-container-id-1 div.sk-label-container {\n",
              "  text-align: center;\n",
              "}\n",
              "\n",
              "/* Estimator-specific */\n",
              "#sk-container-id-1 div.sk-estimator {\n",
              "  font-family: monospace;\n",
              "  border: 1px dotted var(--sklearn-color-border-box);\n",
              "  border-radius: 0.25em;\n",
              "  box-sizing: border-box;\n",
              "  margin-bottom: 0.5em;\n",
              "  /* unfitted */\n",
              "  background-color: var(--sklearn-color-unfitted-level-0);\n",
              "}\n",
              "\n",
              "#sk-container-id-1 div.sk-estimator.fitted {\n",
              "  /* fitted */\n",
              "  background-color: var(--sklearn-color-fitted-level-0);\n",
              "}\n",
              "\n",
              "/* on hover */\n",
              "#sk-container-id-1 div.sk-estimator:hover {\n",
              "  /* unfitted */\n",
              "  background-color: var(--sklearn-color-unfitted-level-2);\n",
              "}\n",
              "\n",
              "#sk-container-id-1 div.sk-estimator.fitted:hover {\n",
              "  /* fitted */\n",
              "  background-color: var(--sklearn-color-fitted-level-2);\n",
              "}\n",
              "\n",
              "/* Specification for estimator info (e.g. \"i\" and \"?\") */\n",
              "\n",
              "/* Common style for \"i\" and \"?\" */\n",
              "\n",
              ".sk-estimator-doc-link,\n",
              "a:link.sk-estimator-doc-link,\n",
              "a:visited.sk-estimator-doc-link {\n",
              "  float: right;\n",
              "  font-size: smaller;\n",
              "  line-height: 1em;\n",
              "  font-family: monospace;\n",
              "  background-color: var(--sklearn-color-background);\n",
              "  border-radius: 1em;\n",
              "  height: 1em;\n",
              "  width: 1em;\n",
              "  text-decoration: none !important;\n",
              "  margin-left: 0.5em;\n",
              "  text-align: center;\n",
              "  /* unfitted */\n",
              "  border: var(--sklearn-color-unfitted-level-1) 1pt solid;\n",
              "  color: var(--sklearn-color-unfitted-level-1);\n",
              "}\n",
              "\n",
              ".sk-estimator-doc-link.fitted,\n",
              "a:link.sk-estimator-doc-link.fitted,\n",
              "a:visited.sk-estimator-doc-link.fitted {\n",
              "  /* fitted */\n",
              "  border: var(--sklearn-color-fitted-level-1) 1pt solid;\n",
              "  color: var(--sklearn-color-fitted-level-1);\n",
              "}\n",
              "\n",
              "/* On hover */\n",
              "div.sk-estimator:hover .sk-estimator-doc-link:hover,\n",
              ".sk-estimator-doc-link:hover,\n",
              "div.sk-label-container:hover .sk-estimator-doc-link:hover,\n",
              ".sk-estimator-doc-link:hover {\n",
              "  /* unfitted */\n",
              "  background-color: var(--sklearn-color-unfitted-level-3);\n",
              "  color: var(--sklearn-color-background);\n",
              "  text-decoration: none;\n",
              "}\n",
              "\n",
              "div.sk-estimator.fitted:hover .sk-estimator-doc-link.fitted:hover,\n",
              ".sk-estimator-doc-link.fitted:hover,\n",
              "div.sk-label-container:hover .sk-estimator-doc-link.fitted:hover,\n",
              ".sk-estimator-doc-link.fitted:hover {\n",
              "  /* fitted */\n",
              "  background-color: var(--sklearn-color-fitted-level-3);\n",
              "  color: var(--sklearn-color-background);\n",
              "  text-decoration: none;\n",
              "}\n",
              "\n",
              "/* Span, style for the box shown on hovering the info icon */\n",
              ".sk-estimator-doc-link span {\n",
              "  display: none;\n",
              "  z-index: 9999;\n",
              "  position: relative;\n",
              "  font-weight: normal;\n",
              "  right: .2ex;\n",
              "  padding: .5ex;\n",
              "  margin: .5ex;\n",
              "  width: min-content;\n",
              "  min-width: 20ex;\n",
              "  max-width: 50ex;\n",
              "  color: var(--sklearn-color-text);\n",
              "  box-shadow: 2pt 2pt 4pt #999;\n",
              "  /* unfitted */\n",
              "  background: var(--sklearn-color-unfitted-level-0);\n",
              "  border: .5pt solid var(--sklearn-color-unfitted-level-3);\n",
              "}\n",
              "\n",
              ".sk-estimator-doc-link.fitted span {\n",
              "  /* fitted */\n",
              "  background: var(--sklearn-color-fitted-level-0);\n",
              "  border: var(--sklearn-color-fitted-level-3);\n",
              "}\n",
              "\n",
              ".sk-estimator-doc-link:hover span {\n",
              "  display: block;\n",
              "}\n",
              "\n",
              "/* \"?\"-specific style due to the `<a>` HTML tag */\n",
              "\n",
              "#sk-container-id-1 a.estimator_doc_link {\n",
              "  float: right;\n",
              "  font-size: 1rem;\n",
              "  line-height: 1em;\n",
              "  font-family: monospace;\n",
              "  background-color: var(--sklearn-color-background);\n",
              "  border-radius: 1rem;\n",
              "  height: 1rem;\n",
              "  width: 1rem;\n",
              "  text-decoration: none;\n",
              "  /* unfitted */\n",
              "  color: var(--sklearn-color-unfitted-level-1);\n",
              "  border: var(--sklearn-color-unfitted-level-1) 1pt solid;\n",
              "}\n",
              "\n",
              "#sk-container-id-1 a.estimator_doc_link.fitted {\n",
              "  /* fitted */\n",
              "  border: var(--sklearn-color-fitted-level-1) 1pt solid;\n",
              "  color: var(--sklearn-color-fitted-level-1);\n",
              "}\n",
              "\n",
              "/* On hover */\n",
              "#sk-container-id-1 a.estimator_doc_link:hover {\n",
              "  /* unfitted */\n",
              "  background-color: var(--sklearn-color-unfitted-level-3);\n",
              "  color: var(--sklearn-color-background);\n",
              "  text-decoration: none;\n",
              "}\n",
              "\n",
              "#sk-container-id-1 a.estimator_doc_link.fitted:hover {\n",
              "  /* fitted */\n",
              "  background-color: var(--sklearn-color-fitted-level-3);\n",
              "}\n",
              "</style><div id=\"sk-container-id-1\" class=\"sk-top-container\"><div class=\"sk-text-repr-fallback\"><pre>DecisionTreeRegressor(random_state=42)</pre><b>In a Jupyter environment, please rerun this cell to show the HTML representation or trust the notebook. <br />On GitHub, the HTML representation is unable to render, please try loading this page with nbviewer.org.</b></div><div class=\"sk-container\" hidden><div class=\"sk-item\"><div class=\"sk-estimator fitted sk-toggleable\"><input class=\"sk-toggleable__control sk-hidden--visually\" id=\"sk-estimator-id-1\" type=\"checkbox\" checked><label for=\"sk-estimator-id-1\" class=\"sk-toggleable__label fitted sk-toggleable__label-arrow\"><div><div>DecisionTreeRegressor</div></div><div><a class=\"sk-estimator-doc-link fitted\" rel=\"noreferrer\" target=\"_blank\" href=\"https://scikit-learn.org/1.6/modules/generated/sklearn.tree.DecisionTreeRegressor.html\">?<span>Documentation for DecisionTreeRegressor</span></a><span class=\"sk-estimator-doc-link fitted\">i<span>Fitted</span></span></div></label><div class=\"sk-toggleable__content fitted\"><pre>DecisionTreeRegressor(random_state=42)</pre></div> </div></div></div></div>"
            ]
          },
          "metadata": {},
          "execution_count": 19
        }
      ]
    },
    {
      "cell_type": "code",
      "source": [
        "# ฟังก์ชันประเมินผลโมเดล\n",
        "def evaluate_model(model, X_test, y_test):\n",
        "    y_pred = model.predict(X_test)\n",
        "    mae = mean_absolute_error(y_test, y_pred)\n",
        "    mse = mean_squared_error(y_test, y_pred)\n",
        "    r2 = r2_score(y_test, y_pred)\n",
        "    mape = np.mean(np.abs((y_test - y_pred) / y_test)) * 100\n",
        "    accuracy = 100 - mape\n",
        "\n",
        "    print(f\"{model.__class__.__name__} Evaluation\")\n",
        "    print(f\"MAE: {mae}\")\n",
        "    print(f\"MSE: {mse}\")\n",
        "    print(f\"R^2 Score: {r2}\")\n",
        "    print(f\"MAPE: {mape}%\")\n",
        "    print(f\"Prediction Accuracy: {accuracy}%\")\n",
        "    print(\"=\" * 50)\n",
        "    return y_pred"
      ],
      "metadata": {
        "id": "K5XkJTRuTkcd"
      },
      "execution_count": null,
      "outputs": []
    },
    {
      "cell_type": "code",
      "source": [
        "# Evaluate Models\n",
        "evaluate_model(knn, X_test, y_test)\n",
        "evaluate_model(decision_tree, X_test, y_test)\n",
        "evaluate_model(svm, X_test, y_test)"
      ],
      "metadata": {
        "colab": {
          "base_uri": "https://localhost:8080/"
        },
        "id": "tweeHbNnTov3",
        "outputId": "247efff0-cb1a-46de-ebdf-91ef56752fd1"
      },
      "execution_count": null,
      "outputs": [
        {
          "output_type": "stream",
          "name": "stdout",
          "text": [
            "KNeighborsRegressor Evaluation\n",
            "MAE: 65.22198000000002\n",
            "MSE: 13466.682323440004\n",
            "R^2 Score: 0.8501622726257395\n",
            "MAPE: 4.38520507817006%\n",
            "Prediction Accuracy: 95.61479492182994%\n",
            "==================================================\n",
            "DecisionTreeRegressor Evaluation\n",
            "MAE: 62.483799999999995\n",
            "MSE: 24925.21042005917\n",
            "R^2 Score: 0.7226683756275851\n",
            "MAPE: 4.095967917944737%\n",
            "Prediction Accuracy: 95.90403208205527%\n",
            "==================================================\n",
            "SVR Evaluation\n",
            "MAE: 51.255052393686\n",
            "MSE: 12857.7314109803\n",
            "R^2 Score: 0.8569377959962304\n",
            "MAPE: 3.4660482866449365%\n",
            "Prediction Accuracy: 96.53395171335507%\n",
            "==================================================\n"
          ]
        },
        {
          "output_type": "execute_result",
          "data": {
            "text/plain": [
              "array([1528.95668391, 1991.60116165, 1768.90231843, 1296.37809096,\n",
              "       1142.79524275, 1483.63233827, 1166.88549051, 1304.2512343 ,\n",
              "       1031.7029494 , 1775.43820565, 1201.44107479, 1753.66987522,\n",
              "       1270.77248881, 1798.2055928 , 1483.63062642, 1853.50358424,\n",
              "       1483.63080726,  996.58883234, 1669.92911152, 1736.43421258,\n",
              "       1474.48562759, 1584.71160446, 1192.21023892, 1347.98197086,\n",
              "       1395.60092054, 1483.6314177 , 1147.99322134, 1933.61411335,\n",
              "       1977.94798655, 1547.72543779, 1918.52075765, 1727.4058261 ,\n",
              "       1725.25488536, 1145.79554858, 1464.90777677, 1073.60025368,\n",
              "       1535.13999588, 1716.91438184, 1460.28938572, 1543.85884326,\n",
              "       1930.52914404, 1520.51022722, 1431.51333096, 1661.77602875,\n",
              "       1933.67642012, 1716.13367852, 1447.18837726, 1954.8972227 ,\n",
              "       1297.32079638, 1974.62022586, 1399.27418102, 1551.61073368,\n",
              "       1564.77571973, 1500.81958317, 1774.22301016, 1373.94861187,\n",
              "       1483.63010637, 1152.04806431, 1903.53025614, 1145.56438848,\n",
              "       1009.92111654, 1911.5398367 , 1050.67947575, 1899.32230429,\n",
              "       1986.97285209, 1441.49451822, 1657.69566541, 1715.07585605,\n",
              "       1616.21221682, 1850.39465329, 1927.70931465, 1496.33579258,\n",
              "       1521.76605005, 1026.4951299 , 1747.00697346, 1602.63762699,\n",
              "       1594.29752871, 1045.11825236, 1441.40628792, 1186.42999888,\n",
              "       1834.86469875, 1104.29438746, 1434.79255396, 1827.55073241,\n",
              "       1468.70502968, 1483.62769944, 1387.42575728, 1362.48005003,\n",
              "       1343.59729966, 1845.53824065, 1644.80421574, 1760.31534729,\n",
              "       1135.484354  , 1566.74029892, 1696.31530737, 1881.15514899,\n",
              "       1805.81541677, 1867.49468602, 1576.17044142, 1497.52216897,\n",
              "       1471.993568  , 1230.09113464, 1326.97039426,  996.41802034,\n",
              "       1212.91060837, 1180.19173182, 1527.96574119, 1899.58674313,\n",
              "       1265.65576085, 1483.63219978, 1499.1978268 , 1687.44114783,\n",
              "       1412.03644879, 1863.12735288, 1483.63003798, 1697.51468533,\n",
              "       1483.62919638, 1482.12109507, 1483.63292128, 1607.93982187,\n",
              "       1483.62816416, 1371.32387947, 1483.63334406, 1155.92192796,\n",
              "       1952.88613496, 1462.17408698, 1507.33366814, 1592.50125793,\n",
              "       1900.75104858, 1747.13430467, 1463.4669855 , 1414.58824801,\n",
              "       1472.49182774, 1333.71158633, 1095.67960493, 1539.57852839,\n",
              "       1875.5413774 , 1025.43209155, 1615.73438802, 1060.0740706 ,\n",
              "       1538.96572824, 1788.47550363, 1829.70084889, 1420.95914553,\n",
              "       1894.09402679, 1020.37941938, 1762.2672166 , 1747.81019544,\n",
              "       1220.22315762, 1458.37872801, 1778.40848545, 1695.92617809,\n",
              "       1479.12931085, 1381.72173947, 1982.61491011, 1483.6344738 ,\n",
              "       1938.70353839, 1551.61601466, 1483.63285848, 1220.58503791,\n",
              "       1818.80644212, 1364.28142684, 1483.62854999, 1968.82899018,\n",
              "       1969.62177294, 1483.63198084, 1710.84910211, 1600.92264678,\n",
              "       1732.42291444, 1547.68929866, 1389.21178624, 1813.67874347,\n",
              "       1194.61526349, 1483.63276703, 1725.91583444, 1483.63490445,\n",
              "       1562.97699335, 1788.48557725, 1296.91732913, 1450.01545484,\n",
              "       1123.2072007 , 1622.14258028, 1101.96740083, 1118.89024204,\n",
              "       1331.87221632, 1755.17691825, 1853.31780867, 1252.09205258,\n",
              "       1483.6314756 , 1441.81737362, 1181.37934315, 1423.25689778,\n",
              "       1731.42840341, 1373.0897141 , 1038.76722926, 1827.52394575,\n",
              "       1694.33854179, 1316.13021403, 2005.93288954, 1526.52909326])"
            ]
          },
          "metadata": {},
          "execution_count": 21
        }
      ]
    },
    {
      "cell_type": "code",
      "source": [
        "# บันทึกโมเดล\n",
        "joblib.dump(decision_tree, 'decision_tree_model.pkl')\n",
        "joblib.dump(knn, 'knn_model.pkl')\n",
        "joblib.dump(svm, 'svr_model.pkl')\n",
        "joblib.dump(scaler, 'scaler.pkl')"
      ],
      "metadata": {
        "colab": {
          "base_uri": "https://localhost:8080/"
        },
        "id": "refocvmQTqw9",
        "outputId": "fc18cdf6-ed09-44f8-c241-d626ff656dd6"
      },
      "execution_count": null,
      "outputs": [
        {
          "output_type": "execute_result",
          "data": {
            "text/plain": [
              "['scaler.pkl']"
            ]
          },
          "metadata": {},
          "execution_count": 22
        }
      ]
    },
    {
      "cell_type": "code",
      "source": [
        "\n",
        "# โหลดโมเดลที่เทรนไว้\n",
        "model_1 = joblib.load('decision_tree_model.pkl')\n",
        "model_2 = joblib.load('knn_model.pkl')\n",
        "model_3 = joblib.load('svr_model.pkl')\n",
        "scaler = joblib.load('scaler.pkl')"
      ],
      "metadata": {
        "id": "lcMxV5y0Tr6d"
      },
      "execution_count": null,
      "outputs": []
    },
    {
      "cell_type": "code",
      "source": [
        "\n",
        "# โหลดข้อมูลใหม่\n",
        "df = pd.read_csv('Thailand_Stock_Market_Data.csv')\n",
        "\n",
        "# ลบช่องว่างด้านหน้า-หลังของชื่อคอลัมน์ทั้งหมด\n",
        "df.columns = df.columns.str.strip()\n",
        "\n",
        "# แยก Features (X) และ Target (y)\n",
        "X_test_new = df[required_columns[2:]].copy()\n",
        "y_test = df['Close Price'].ffill()  # เติมค่าหายไปใน target ด้วย forward fill\n",
        "\n",
        "# จัดเรียงคอลัมน์ของ X_test_new ให้ตรงกับ X_train\n",
        "X_test_new = X_test_new.reindex(columns=X_train.columns)\n",
        "\n",
        "# เติมค่าที่หายไปใน X_test_new ด้วยค่าเฉลี่ยของ X_train\n",
        "imputer = SimpleImputer(strategy='mean')\n",
        "X_test_new = pd.DataFrame(imputer.fit_transform(X_test_new), columns=X_train.columns)\n",
        "\n",
        "# ใช้ scaler ที่เคย fit กับ training data แล้ว\n",
        "X_test_scaled = pd.DataFrame(scaler.transform(X_test_new), columns=X_train.columns)\n",
        "\n",
        "# ตรวจสอบว่าไม่มีค่า missing เหลืออยู่\n",
        "print(X_test_scaled.isnull().sum())\n",
        "print(y_test.isnull().sum())\n"
      ],
      "metadata": {
        "colab": {
          "base_uri": "https://localhost:8080/"
        },
        "id": "2byVy2-AYkky",
        "outputId": "744b6eee-27c0-4590-f65e-585cc6c0f1aa"
      },
      "execution_count": null,
      "outputs": [
        {
          "output_type": "stream",
          "name": "stdout",
          "text": [
            "High Price                   0\n",
            "Low Price                    0\n",
            "Volume                       0\n",
            "Moving Average (50 days)     0\n",
            "Moving Average (200 days)    0\n",
            "Change                       0\n",
            "Percentage Change            0\n",
            "dtype: int64\n",
            "0\n"
          ]
        }
      ]
    },
    {
      "cell_type": "code",
      "source": [
        "print(f\"Shape of X_test_scaled: {X_test_scaled.shape}\")\n",
        "print(f\"Shape of y_test: {y_test.shape}\")\n"
      ],
      "metadata": {
        "colab": {
          "base_uri": "https://localhost:8080/"
        },
        "id": "2RUkbxw_WEA8",
        "outputId": "8068f8a4-055b-4a56-baab-b9d8e98271b9"
      },
      "execution_count": null,
      "outputs": [
        {
          "output_type": "stream",
          "name": "stdout",
          "text": [
            "Shape of X_test_scaled: (1000, 7)\n",
            "Shape of y_test: (1000,)\n"
          ]
        }
      ]
    },
    {
      "cell_type": "code",
      "source": [
        "X_test_scaled = X_test_scaled[:len(y_test)]\n",
        "print(f\"Fixed X_test_scaled shape: {X_test_scaled.shape}\")\n"
      ],
      "metadata": {
        "colab": {
          "base_uri": "https://localhost:8080/"
        },
        "id": "kYvw5jw-WFgZ",
        "outputId": "1051a33e-90eb-400d-de57-a155c0ed6d2e"
      },
      "execution_count": null,
      "outputs": [
        {
          "output_type": "stream",
          "name": "stdout",
          "text": [
            "Fixed X_test_scaled shape: (1000, 7)\n"
          ]
        }
      ]
    },
    {
      "cell_type": "code",
      "source": [
        "X_test_scaled = X_test_scaled.reset_index(drop=True)\n",
        "y_test = y_test.reset_index(drop=True)\n"
      ],
      "metadata": {
        "id": "OzaYhxgxWuON"
      },
      "execution_count": null,
      "outputs": []
    },
    {
      "cell_type": "code",
      "source": [],
      "metadata": {
        "id": "9RfuuNHICR1M"
      },
      "execution_count": null,
      "outputs": []
    },
    {
      "cell_type": "code",
      "source": [
        "# ทำนายด้วยโมเดล\n",
        "pred_1 = model_1.predict(X_test_scaled)\n",
        "pred_2 = model_2.predict(X_test_scaled)\n",
        "pred_3 = model_3.predict(X_test_scaled)\n",
        "y_pred_ensemble = (pred_1 + pred_2 + pred_3) / 3\n"
      ],
      "metadata": {
        "id": "SsF67KJiTuQm"
      },
      "execution_count": null,
      "outputs": []
    },
    {
      "cell_type": "markdown",
      "source": [],
      "metadata": {
        "id": "ZIo7HkoFWG_S"
      }
    },
    {
      "cell_type": "code",
      "source": [
        "mae = mean_absolute_error(y_test, y_pred_ensemble)\n",
        "mse = mean_squared_error(y_test, y_pred_ensemble)\n",
        "r2 = r2_score(y_test, y_pred_ensemble)\n",
        "mape = np.mean(np.abs((y_test - y_pred_ensemble) / y_test)) * 100\n",
        "accuracy = 100 - mape\n",
        "\n",
        "print(f\"MAE: {mae}\")\n",
        "print(f\"MSE: {mse}\")\n",
        "print(f\"R2 Score: {r2}\")\n",
        "print(f\"MAPE: {mape}%\")\n",
        "print(f\"Prediction Accuracy: {accuracy}%\")"
      ],
      "metadata": {
        "colab": {
          "base_uri": "https://localhost:8080/"
        },
        "id": "5vDHmTnrTvmM",
        "outputId": "146034da-ef1c-4d73-8407-aa8a8ddfd7d2"
      },
      "execution_count": null,
      "outputs": [
        {
          "output_type": "stream",
          "name": "stdout",
          "text": [
            "MAE: 38.3838300403303\n",
            "MSE: 7078.100869776951\n",
            "R2 Score: 0.9194065304203449\n",
            "MAPE: 2.6276402146308797%\n",
            "Prediction Accuracy: 97.37235978536913%\n"
          ]
        }
      ]
    },
    {
      "cell_type": "code",
      "source": [
        "print(X_test_scaled.head())\n",
        "print(y_test.head())\n"
      ],
      "metadata": {
        "colab": {
          "base_uri": "https://localhost:8080/"
        },
        "id": "jHrI81YxTwpk",
        "outputId": "78c97c6f-3578-4613-8b47-4c071ca909cf"
      },
      "execution_count": null,
      "outputs": [
        {
          "output_type": "stream",
          "name": "stdout",
          "text": [
            "     High Price  Low Price    Volume  Moving Average (50 days)  \\\n",
            "0 -1.679278e+00  -1.659103 -1.642579                 -1.799712   \n",
            "1  1.258137e+00   1.360983  0.016754                  0.000000   \n",
            "2 -6.504432e-01  -0.651031  0.385813                 -0.575887   \n",
            "3  4.573734e-01   0.500726 -0.845858                  0.000000   \n",
            "4 -8.407487e-16  -1.776306 -0.501946                 -1.975420   \n",
            "\n",
            "   Moving Average (200 days)        Change  Percentage Change  \n",
            "0                  -1.886665 -1.834676e+00      -2.467527e+00  \n",
            "1                   1.133378 -8.320639e-01      -6.553684e-01  \n",
            "2                  -0.548801  1.264912e-17       1.103015e-17  \n",
            "3                   0.331110  1.264912e-17       1.103015e-17  \n",
            "4                  -1.973712  1.249747e-01       2.030223e-01  \n",
            "0    1035.42\n",
            "1    1834.77\n",
            "2    1299.43\n",
            "3    1613.39\n",
            "4    1005.77\n",
            "Name: Close Price, dtype: float64\n"
          ]
        }
      ]
    }
  ]
}